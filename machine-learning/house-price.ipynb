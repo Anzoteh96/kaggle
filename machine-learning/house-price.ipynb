{
  "cells": [
    {
      "metadata": {
        "_cell_guid": "e81ee64d-e474-4662-9036-ce23df615199",
        "_uuid": "b6269c0e8f417f82daf093dda8fa0da6d2c57d86"
      },
      "cell_type": "markdown",
      "source": "# Intro\n**This is your workspace for Kaggle's Machine Learning course**\n\nYou will build and continually improve a model to predict housing prices as you work through each tutorial.\n\nThe tutorials you read use data from Melbourne. The Melbourne data is not available in this workspace.  Instead, you will translate the concepts to work with the data in this notebook, the Iowa data.\n\n# Write Your Code Below\n"
    },
    {
      "metadata": {
        "_cell_guid": "86b26423-563a-4fa1-a595-89e25ff93089",
        "_uuid": "1c728098629e1301643443b1341556a15c089b2b",
        "trusted": true
      },
      "cell_type": "code",
      "source": "import pandas as pd\nfrom sklearn.tree import DecisionTreeRegressor\nfrom sklearn.metrics import mean_absolute_error\nfrom sklearn.model_selection import train_test_split\nfrom sklearn.ensemble import RandomForestRegressor\n\nmain_file_path = '../input/train.csv' # this is the path to the Iowa data that you will use\ndata = pd.read_csv(main_file_path)\n\ndef get_mae(max_leaf_nodes, predictors_train, predictors_val, targ_train, targ_val):\n    model = DecisionTreeRegressor(max_leaf_nodes=max_leaf_nodes, random_state=0)\n    model.fit(predictors_train, targ_train)\n    preds_val = model.predict(predictors_val)\n    mae = mean_absolute_error(targ_val, preds_val)\n    return(mae)\n\n# The cod below will help you see how output appears when you run a code block\n# Run this code block with the control-enter keys on your keyboard. Or click the blue botton on the left\n# Exercise 1: just print everything\nprint(data.describe())\n\n# Exercise2:\n# Q1: print the list of columns\nprint(data.columns)\n# Q2/3: print the first few rows of the prices\nprint(data.SalePrice.head())\n\ndata_subset=data[['MoSold', 'YrSold']]\nprint(data_subset.describe())\n\n#Q4: using sklearn for modelling now\nX=data[['LotArea', 'YearBuilt', '1stFlrSF', '2ndFlrSF', 'FullBath', 'BedroomAbvGr', 'TotRmsAbvGrd']]\ny=data['SalePrice']\n#fit into model\nmodel_0 = DecisionTreeRegressor()\nmodel_0.fit(X, y)\npred_0=model_0.predict(X)\nprint(pred_0)\nprint(\"model_0 error is\" )\nprint(mean_absolute_error(pred_0, y))\n\n#Q5/6: model validation\n#split into training and validation, for both predictors and target\ntrain_X, val_X, train_y, val_y = train_test_split(X, y,random_state = 0)\n#yet another regressor\nprint(\"train_X\")\nprint(train_X.head())\nprint(\"val_X\")\nprint(val_X.head())\nprint(\"train_y\")\nprint(train_y.head())\nprint(\"val_y\")\nprint(val_y.head())\nmodel_1 = DecisionTreeRegressor()\nmodel_1.fit(train_X, train_y)\npred_1 = model_1.predict(val_X)\nprint(\"model_1 error is\")\nprint(mean_absolute_error(pred_1, val_y))\n\nfor max_leaf_nodes in range(2, 100):\n    my_mae = get_mae(max_leaf_nodes, train_X, val_X, train_y, val_y)\n    print(\"Max leaf nodes: %d  \\t\\t Mean Absolute Error:  %d\" %(max_leaf_nodes, my_mae))\n    \n#Q7: Random Forest\nforest_model = RandomForestRegressor()\nforest_model.fit(train_X, train_y)\npred_forest=forest_model.predict(val_X)\nprint(\"Forest error is\")\nprint(mean_absolute_error(pred_forest, val_y))",
      "execution_count": 20,
      "outputs": [
        {
          "output_type": "stream",
          "text": "                Id   MSSubClass      ...             YrSold      SalePrice\ncount  1460.000000  1460.000000      ...        1460.000000    1460.000000\nmean    730.500000    56.897260      ...        2007.815753  180921.195890\nstd     421.610009    42.300571      ...           1.328095   79442.502883\nmin       1.000000    20.000000      ...        2006.000000   34900.000000\n25%     365.750000    20.000000      ...        2007.000000  129975.000000\n50%     730.500000    50.000000      ...        2008.000000  163000.000000\n75%    1095.250000    70.000000      ...        2009.000000  214000.000000\nmax    1460.000000   190.000000      ...        2010.000000  755000.000000\n\n[8 rows x 38 columns]\nIndex(['Id', 'MSSubClass', 'MSZoning', 'LotFrontage', 'LotArea', 'Street',\n       'Alley', 'LotShape', 'LandContour', 'Utilities', 'LotConfig',\n       'LandSlope', 'Neighborhood', 'Condition1', 'Condition2', 'BldgType',\n       'HouseStyle', 'OverallQual', 'OverallCond', 'YearBuilt', 'YearRemodAdd',\n       'RoofStyle', 'RoofMatl', 'Exterior1st', 'Exterior2nd', 'MasVnrType',\n       'MasVnrArea', 'ExterQual', 'ExterCond', 'Foundation', 'BsmtQual',\n       'BsmtCond', 'BsmtExposure', 'BsmtFinType1', 'BsmtFinSF1',\n       'BsmtFinType2', 'BsmtFinSF2', 'BsmtUnfSF', 'TotalBsmtSF', 'Heating',\n       'HeatingQC', 'CentralAir', 'Electrical', '1stFlrSF', '2ndFlrSF',\n       'LowQualFinSF', 'GrLivArea', 'BsmtFullBath', 'BsmtHalfBath', 'FullBath',\n       'HalfBath', 'BedroomAbvGr', 'KitchenAbvGr', 'KitchenQual',\n       'TotRmsAbvGrd', 'Functional', 'Fireplaces', 'FireplaceQu', 'GarageType',\n       'GarageYrBlt', 'GarageFinish', 'GarageCars', 'GarageArea', 'GarageQual',\n       'GarageCond', 'PavedDrive', 'WoodDeckSF', 'OpenPorchSF',\n       'EnclosedPorch', '3SsnPorch', 'ScreenPorch', 'PoolArea', 'PoolQC',\n       'Fence', 'MiscFeature', 'MiscVal', 'MoSold', 'YrSold', 'SaleType',\n       'SaleCondition', 'SalePrice'],\n      dtype='object')\n0    208500\n1    181500\n2    223500\n3    140000\n4    250000\nName: SalePrice, dtype: int64\n            MoSold       YrSold\ncount  1460.000000  1460.000000\nmean      6.321918  2007.815753\nstd       2.703626     1.328095\nmin       1.000000  2006.000000\n25%       5.000000  2007.000000\n50%       6.000000  2008.000000\n75%       8.000000  2009.000000\nmax      12.000000  2010.000000\n[ 208500.  181500.  223500. ...,  266500.  142125.  147500.]\nmodel_0 error is\n62.3543378995\ntrain_X\n      LotArea  YearBuilt      ...       BedroomAbvGr  TotRmsAbvGrd\n1292     6600       1892      ...                  4            11\n1018    10784       1991      ...                  3             7\n1213    10246       1965      ...                  0             3\n1430    21930       2005      ...                  4             7\n810     10140       1974      ...                  3             5\n\n[5 rows x 7 columns]\nval_X\n     LotArea  YearBuilt      ...       BedroomAbvGr  TotRmsAbvGrd\n529    32668       1957      ...                  4             9\n491     9490       1941      ...                  3             5\n459     7015       1950      ...                  3             5\n279    10005       1977      ...                  4             8\n655     1680       1971      ...                  3             6\n\n[5 rows x 7 columns]\ntrain_y\n1292    107500\n1018    160000\n1213    145000\n1430    192140\n810     181000\nName: SalePrice, dtype: int64\nval_y\n529    200624\n491    133000\n459    110000\n279    192000\n655     88000\nName: SalePrice, dtype: int64\nmodel_1 error is\n33207.8246575\nMax leaf nodes: 2  \t\t Mean Absolute Error:  45933\nMax leaf nodes: 3  \t\t Mean Absolute Error:  40510\nMax leaf nodes: 4  \t\t Mean Absolute Error:  37603\nMax leaf nodes: 5  \t\t Mean Absolute Error:  35190\nMax leaf nodes: 6  \t\t Mean Absolute Error:  33967\nMax leaf nodes: 7  \t\t Mean Absolute Error:  33636\nMax leaf nodes: 8  \t\t Mean Absolute Error:  31908\nMax leaf nodes: 9  \t\t Mean Absolute Error:  31416\nMax leaf nodes: 10  \t\t Mean Absolute Error:  30616\nMax leaf nodes: 11  \t\t Mean Absolute Error:  30166\nMax leaf nodes: 12  \t\t Mean Absolute Error:  30691\nMax leaf nodes: 13  \t\t Mean Absolute Error:  31319\nMax leaf nodes: 14  \t\t Mean Absolute Error:  30790\nMax leaf nodes: 15  \t\t Mean Absolute Error:  29666\nMax leaf nodes: 16  \t\t Mean Absolute Error:  29056\nMax leaf nodes: 17  \t\t Mean Absolute Error:  28914\nMax leaf nodes: 18  \t\t Mean Absolute Error:  28771\nMax leaf nodes: 19  \t\t Mean Absolute Error:  29140\nMax leaf nodes: 20  \t\t Mean Absolute Error:  29206\nMax leaf nodes: 21  \t\t Mean Absolute Error:  28533\nMax leaf nodes: 22  \t\t Mean Absolute Error:  28462\nMax leaf nodes: 23  \t\t Mean Absolute Error:  28756\nMax leaf nodes: 24  \t\t Mean Absolute Error:  28727\nMax leaf nodes: 25  \t\t Mean Absolute Error:  28501\nMax leaf nodes: 26  \t\t Mean Absolute Error:  28477\nMax leaf nodes: 27  \t\t Mean Absolute Error:  28525\nMax leaf nodes: 28  \t\t Mean Absolute Error:  28766\nMax leaf nodes: 29  \t\t Mean Absolute Error:  28282\nMax leaf nodes: 30  \t\t Mean Absolute Error:  28302\nMax leaf nodes: 31  \t\t Mean Absolute Error:  27965\nMax leaf nodes: 32  \t\t Mean Absolute Error:  27852\nMax leaf nodes: 33  \t\t Mean Absolute Error:  27852\nMax leaf nodes: 34  \t\t Mean Absolute Error:  27880\nMax leaf nodes: 35  \t\t Mean Absolute Error:  27556\nMax leaf nodes: 36  \t\t Mean Absolute Error:  27372\nMax leaf nodes: 37  \t\t Mean Absolute Error:  27491\nMax leaf nodes: 38  \t\t Mean Absolute Error:  27509\nMax leaf nodes: 39  \t\t Mean Absolute Error:  27633\nMax leaf nodes: 40  \t\t Mean Absolute Error:  27570\nMax leaf nodes: 41  \t\t Mean Absolute Error:  27496\nMax leaf nodes: 42  \t\t Mean Absolute Error:  27899\nMax leaf nodes: 43  \t\t Mean Absolute Error:  27791\nMax leaf nodes: 44  \t\t Mean Absolute Error:  27736\nMax leaf nodes: 45  \t\t Mean Absolute Error:  27531\nMax leaf nodes: 46  \t\t Mean Absolute Error:  27645\nMax leaf nodes: 47  \t\t Mean Absolute Error:  27687\nMax leaf nodes: 48  \t\t Mean Absolute Error:  27647\nMax leaf nodes: 49  \t\t Mean Absolute Error:  27840\nMax leaf nodes: 50  \t\t Mean Absolute Error:  27825\nMax leaf nodes: 51  \t\t Mean Absolute Error:  28011\nMax leaf nodes: 52  \t\t Mean Absolute Error:  27929\nMax leaf nodes: 53  \t\t Mean Absolute Error:  28149\nMax leaf nodes: 54  \t\t Mean Absolute Error:  28004\nMax leaf nodes: 55  \t\t Mean Absolute Error:  27881\nMax leaf nodes: 56  \t\t Mean Absolute Error:  27835\nMax leaf nodes: 57  \t\t Mean Absolute Error:  27950\nMax leaf nodes: 58  \t\t Mean Absolute Error:  27950\nMax leaf nodes: 59  \t\t Mean Absolute Error:  28092\nMax leaf nodes: 60  \t\t Mean Absolute Error:  28072\nMax leaf nodes: 61  \t\t Mean Absolute Error:  28038\nMax leaf nodes: 62  \t\t Mean Absolute Error:  28038\nMax leaf nodes: 63  \t\t Mean Absolute Error:  28106\nMax leaf nodes: 64  \t\t Mean Absolute Error:  28039\nMax leaf nodes: 65  \t\t Mean Absolute Error:  27976\nMax leaf nodes: 66  \t\t Mean Absolute Error:  27972\nMax leaf nodes: 67  \t\t Mean Absolute Error:  27953\nMax leaf nodes: 68  \t\t Mean Absolute Error:  27925\nMax leaf nodes: 69  \t\t Mean Absolute Error:  27767\nMax leaf nodes: 70  \t\t Mean Absolute Error:  27657\nMax leaf nodes: 71  \t\t Mean Absolute Error:  27680\nMax leaf nodes: 72  \t\t Mean Absolute Error:  27560\nMax leaf nodes: 73  \t\t Mean Absolute Error:  27421\nMax leaf nodes: 74  \t\t Mean Absolute Error:  27487\nMax leaf nodes: 75  \t\t Mean Absolute Error:  27455\nMax leaf nodes: 76  \t\t Mean Absolute Error:  27407\nMax leaf nodes: 77  \t\t Mean Absolute Error:  27344\nMax leaf nodes: 78  \t\t Mean Absolute Error:  27258\nMax leaf nodes: 79  \t\t Mean Absolute Error:  27280\nMax leaf nodes: 80  \t\t Mean Absolute Error:  27280\nMax leaf nodes: 81  \t\t Mean Absolute Error:  27241\nMax leaf nodes: 82  \t\t Mean Absolute Error:  27203\nMax leaf nodes: 83  \t\t Mean Absolute Error:  27458\nMax leaf nodes: 84  \t\t Mean Absolute Error:  27458\nMax leaf nodes: 85  \t\t Mean Absolute Error:  27648\nMax leaf nodes: 86  \t\t Mean Absolute Error:  27648\nMax leaf nodes: 87  \t\t Mean Absolute Error:  27674\nMax leaf nodes: 88  \t\t Mean Absolute Error:  27768\nMax leaf nodes: 89  \t\t Mean Absolute Error:  28208\nMax leaf nodes: 90  \t\t Mean Absolute Error:  28284\nMax leaf nodes: 91  \t\t Mean Absolute Error:  28335\nMax leaf nodes: 92  \t\t Mean Absolute Error:  28427\nMax leaf nodes: 93  \t\t Mean Absolute Error:  28427\nMax leaf nodes: 94  \t\t Mean Absolute Error:  28529\nMax leaf nodes: 95  \t\t Mean Absolute Error:  28503\nMax leaf nodes: 96  \t\t Mean Absolute Error:  28544\nMax leaf nodes: 97  \t\t Mean Absolute Error:  28646\nMax leaf nodes: 98  \t\t Mean Absolute Error:  28646\nMax leaf nodes: 99  \t\t Mean Absolute Error:  28614\n",
          "name": "stdout"
        },
        {
          "output_type": "stream",
          "text": "Forest error is\n23576.3787084\n",
          "name": "stdout"
        }
      ]
    },
    {
      "metadata": {
        "_uuid": "5993d6bbf5e7c47ffc4e10dd0a3940783d861573"
      },
      "cell_type": "markdown",
      "source": "\n\n**If you have any questions or hit any problems, come to the [Learn Discussion](https://www.kaggle.com/learn-forum) for help. **\n\n**Return to [ML Course Index](https://www.kaggle.com/learn/machine-learning)**"
    },
    {
      "metadata": {
        "_uuid": "04becaecca84c4b4d7e81563a64ba8c8a605fec4"
      },
      "cell_type": "markdown",
      "source": ""
    }
  ],
  "metadata": {
    "kernelspec": {
      "display_name": "Python 3",
      "language": "python",
      "name": "python3"
    },
    "language_info": {
      "name": "python",
      "version": "3.6.5",
      "mimetype": "text/x-python",
      "codemirror_mode": {
        "name": "ipython",
        "version": 3
      },
      "pygments_lexer": "ipython3",
      "nbconvert_exporter": "python",
      "file_extension": ".py"
    }
  },
  "nbformat": 4,
  "nbformat_minor": 1
}